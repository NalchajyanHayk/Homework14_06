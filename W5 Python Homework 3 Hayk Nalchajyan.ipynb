{
 "cells": [
  {
   "cell_type": "markdown",
   "id": "2d95087c",
   "metadata": {},
   "source": [
    "## Picsart Academy W5 Python Hayk Nalchajyan"
   ]
  },
  {
   "cell_type": "markdown",
   "id": "e57d8866",
   "metadata": {},
   "source": [
    "### Implement the starts_with() function taking two strings and returning true if the first argument starts with the second one."
   ]
  },
  {
   "cell_type": "code",
   "execution_count": 25,
   "id": "4c170b8e",
   "metadata": {},
   "outputs": [],
   "source": [
    "def starts_with(string, begin):\n",
    "    result = False\n",
    "    string, begin = string.strip(), begin.strip()\n",
    "    if begin == string[:len(begin)]:\n",
    "        result = True\n",
    "    return result"
   ]
  },
  {
   "cell_type": "code",
   "execution_count": 27,
   "id": "f334ee54",
   "metadata": {},
   "outputs": [
    {
     "data": {
      "text/plain": [
       "True"
      ]
     },
     "execution_count": 27,
     "metadata": {},
     "output_type": "execute_result"
    }
   ],
   "source": [
    "starts_with(\"hog rider\", \"hog r\")"
   ]
  },
  {
   "cell_type": "code",
   "execution_count": 28,
   "id": "0a5c5c99",
   "metadata": {},
   "outputs": [
    {
     "data": {
      "text/plain": [
       "True"
      ]
     },
     "execution_count": 28,
     "metadata": {},
     "output_type": "execute_result"
    }
   ],
   "source": [
    "starts_with(\"   hog rider   \", \"hog r \")"
   ]
  },
  {
   "cell_type": "markdown",
   "id": "edb28426",
   "metadata": {},
   "source": [
    "### Implement the ends_with() function taking two strings and returning true if the first argument ends with the second one."
   ]
  },
  {
   "cell_type": "code",
   "execution_count": 21,
   "id": "300104d8",
   "metadata": {},
   "outputs": [],
   "source": [
    "def ends_with(string, end):\n",
    "    result = False\n",
    "    string, end = string.strip(), end.strip()\n",
    "    if end == string[len(string)-len(end):]:\n",
    "        result = True\n",
    "    return result"
   ]
  },
  {
   "cell_type": "code",
   "execution_count": 22,
   "id": "9896acea",
   "metadata": {},
   "outputs": [
    {
     "data": {
      "text/plain": [
       "True"
      ]
     },
     "execution_count": 22,
     "metadata": {},
     "output_type": "execute_result"
    }
   ],
   "source": [
    "ends_with(\"hog rider\", \"rider\")"
   ]
  },
  {
   "cell_type": "code",
   "execution_count": 23,
   "id": "db7e6016",
   "metadata": {},
   "outputs": [
    {
     "data": {
      "text/plain": [
       "True"
      ]
     },
     "execution_count": 23,
     "metadata": {},
     "output_type": "execute_result"
    }
   ],
   "source": [
    "ends_with(\"hog rider\", \"  rider\")"
   ]
  },
  {
   "cell_type": "code",
   "execution_count": 24,
   "id": "417bbed4",
   "metadata": {},
   "outputs": [
    {
     "data": {
      "text/plain": [
       "False"
      ]
     },
     "execution_count": 24,
     "metadata": {},
     "output_type": "execute_result"
    }
   ],
   "source": [
    "ends_with(\"hog rider\", \"ride\")"
   ]
  },
  {
   "cell_type": "markdown",
   "id": "83f6f928",
   "metadata": {},
   "source": [
    "### Implement the swap_strings() function taking two strings and swapping their values."
   ]
  },
  {
   "cell_type": "code",
   "execution_count": 32,
   "id": "29f0e5ee",
   "metadata": {},
   "outputs": [],
   "source": [
    "def swap_strings(str1, str2):\n",
    "    str1, str2 = str2, str1\n",
    "    return str1, str2"
   ]
  },
  {
   "cell_type": "code",
   "execution_count": 33,
   "id": "d157c9d9",
   "metadata": {},
   "outputs": [
    {
     "data": {
      "text/plain": [
       "('Everybody', 'Hello')"
      ]
     },
     "execution_count": 33,
     "metadata": {},
     "output_type": "execute_result"
    }
   ],
   "source": [
    "swap_strings(\"Hello\", \"Everybody\")"
   ]
  },
  {
   "cell_type": "markdown",
   "id": "2cf0f5a2",
   "metadata": {},
   "source": [
    "### Implement the find_last_not_of() function taking a string and a character sequence as its arguments. The function returns the last character equal to none of the characters in the given character sequence."
   ]
  },
  {
   "cell_type": "code",
   "execution_count": 100,
   "id": "673192b2",
   "metadata": {},
   "outputs": [],
   "source": [
    "def find_last_not_of(string, sequence):\n",
    "    for i in range(len(string)-1, -1, -1):\n",
    "        if string[i] not in sequence:\n",
    "            return string[i]"
   ]
  },
  {
   "cell_type": "code",
   "execution_count": 101,
   "id": "56d8f4e7",
   "metadata": {},
   "outputs": [
    {
     "data": {
      "text/plain": [
       "'l'"
      ]
     },
     "execution_count": 101,
     "metadata": {},
     "output_type": "execute_result"
    }
   ],
   "source": [
    "find_last_not_of(\"hello world\", \"absdefg\")"
   ]
  },
  {
   "cell_type": "markdown",
   "id": "baf728e6",
   "metadata": {},
   "source": [
    "### Implement the convert_to_int() function taking a string argument and returning its integer representation. Throw an exception if the conversion is not possible."
   ]
  },
  {
   "cell_type": "code",
   "execution_count": 28,
   "id": "154d28b7",
   "metadata": {},
   "outputs": [],
   "source": [
    "def convert_to_int(argument):\n",
    "    try:\n",
    "        if \".\" in argument:\n",
    "            return int((\"1616.16\".split(\".\"))[0])\n",
    "        return int(argument)\n",
    "    except ValueError:\n",
    "        print(f\"The conversion of the argument ->{argument}<- to integer type is not possible!\")"
   ]
  },
  {
   "cell_type": "code",
   "execution_count": 29,
   "id": "a3cfe75a",
   "metadata": {},
   "outputs": [
    {
     "data": {
      "text/plain": [
       "1616"
      ]
     },
     "execution_count": 29,
     "metadata": {},
     "output_type": "execute_result"
    }
   ],
   "source": [
    "convert_to_int(\"161616.16\")"
   ]
  },
  {
   "cell_type": "code",
   "execution_count": 30,
   "id": "f7507e2e",
   "metadata": {},
   "outputs": [
    {
     "data": {
      "text/plain": [
       "165"
      ]
     },
     "execution_count": 30,
     "metadata": {},
     "output_type": "execute_result"
    }
   ],
   "source": [
    "convert_to_int(\"165\")"
   ]
  },
  {
   "cell_type": "code",
   "execution_count": 31,
   "id": "9ec70289",
   "metadata": {},
   "outputs": [
    {
     "name": "stdout",
     "output_type": "stream",
     "text": [
      "The conversion of the argument ->Hello World!<- to integer type is not possible!\n"
     ]
    }
   ],
   "source": [
    "convert_to_int(\"Hello World!\")"
   ]
  },
  {
   "cell_type": "markdown",
   "id": "33727856",
   "metadata": {},
   "source": [
    "### Implement the rotate_by() function taking an integer array and a number as its arguments. The function returns the array rotated by the specified number of positions (given by the second argument)."
   ]
  },
  {
   "cell_type": "code",
   "execution_count": 68,
   "id": "43613beb",
   "metadata": {},
   "outputs": [],
   "source": [
    "def rotated_by(lst, argument):\n",
    "    try:\n",
    "        if 0 > argument or argument > len(lst):\n",
    "            print(\"The argument should not be greater than the length of the list!!\")\n",
    "        else:\n",
    "            return lst[argument:] + lst[:argument]\n",
    "    except Exception as e:\n",
    "        print(\"Please check the type of the arguments!!\")"
   ]
  },
  {
   "cell_type": "code",
   "execution_count": 69,
   "id": "03d9d712",
   "metadata": {},
   "outputs": [
    {
     "name": "stdout",
     "output_type": "stream",
     "text": [
      "Please check the type of the arguments!!\n"
     ]
    }
   ],
   "source": [
    "rotated_by(6, \"p\")"
   ]
  },
  {
   "cell_type": "code",
   "execution_count": 70,
   "id": "2b185d5a",
   "metadata": {},
   "outputs": [
    {
     "name": "stdout",
     "output_type": "stream",
     "text": [
      "The argument should not be greater than the length of the list!!\n"
     ]
    }
   ],
   "source": [
    "rotated_by([\"a\", 15, 78, \"Hello World\", True, \"spam\"], 8)"
   ]
  },
  {
   "cell_type": "code",
   "execution_count": null,
   "id": "91b3a67d",
   "metadata": {},
   "outputs": [],
   "source": []
  }
 ],
 "metadata": {
  "kernelspec": {
   "display_name": "Python 3 (ipykernel)",
   "language": "python",
   "name": "python3"
  },
  "language_info": {
   "codemirror_mode": {
    "name": "ipython",
    "version": 3
   },
   "file_extension": ".py",
   "mimetype": "text/x-python",
   "name": "python",
   "nbconvert_exporter": "python",
   "pygments_lexer": "ipython3",
   "version": "3.9.13"
  }
 },
 "nbformat": 4,
 "nbformat_minor": 5
}
